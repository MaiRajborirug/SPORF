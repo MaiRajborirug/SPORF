{
 "cells": [
  {
   "cell_type": "code",
   "execution_count": 7,
   "metadata": {},
   "outputs": [],
   "source": [
    "import pandas as pd\n",
    "import numpy as np\n",
    "import pickle\n",
    "from glob import glob\n",
    "from pathlib import Path"
   ]
  },
  {
   "cell_type": "code",
   "execution_count": 4,
   "metadata": {},
   "outputs": [],
   "source": [
    "experiment_metadata = {\n",
    "    'Impulse':'./timeseries_1d/',\n",
    "    'H/V Bars':'./hvbar/',\n",
    "    'Circle':'./circle_experiment/',\n",
    "    'MNIST':'./mnist/',\n",
    "}"
   ]
  },
  {
   "cell_type": "code",
   "execution_count": 10,
   "metadata": {},
   "outputs": [],
   "source": [
    "opti_dir = 'optimization_results'"
   ]
  },
  {
   "cell_type": "code",
   "execution_count": 34,
   "metadata": {},
   "outputs": [],
   "source": [
    "## Load best params\n",
    "data = []\n",
    "for experiment, path in experiment_metadata.items():\n",
    "    for f in glob(str(Path(path) / opti_dir / '*.pkl')):\n",
    "        with open(f, 'rb') as handle:\n",
    "            d = pickle.load(handle)\n",
    "            params = '; '.join([f'{k}={v}' for k,v in d['params'].items()])\n",
    "            data.append([experiment, d['name'], params])"
   ]
  },
  {
   "cell_type": "code",
   "execution_count": 43,
   "metadata": {},
   "outputs": [],
   "source": [
    "data_df = pd.DataFrame(data, columns=['Experiment', 'Classifier', 'Tuned Hyperparameters']).sort_values(['Experiment','Classifier']).reset_index(drop=True)"
   ]
  },
  {
   "cell_type": "code",
   "execution_count": 47,
   "metadata": {},
   "outputs": [],
   "source": [
    "data_df.to_csv('./tuned_hyperparams_sklearn.csv', index=False)"
   ]
  }
 ],
 "metadata": {
  "language_info": {
   "codemirror_mode": {
    "name": "ipython",
    "version": 3
   },
   "file_extension": ".py",
   "mimetype": "text/x-python",
   "name": "python",
   "nbconvert_exporter": "python",
   "pygments_lexer": "ipython3",
   "version": "3.6.9-final"
  },
  "orig_nbformat": 2,
  "kernelspec": {
   "name": "python36964bite56226f122fe46bfb18dc95209ecfe50",
   "display_name": "Python 3.6.9 64-bit"
  }
 },
 "nbformat": 4,
 "nbformat_minor": 2
}