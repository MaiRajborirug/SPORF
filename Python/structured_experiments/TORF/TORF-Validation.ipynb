{
 "cells": [
  {
   "cell_type": "code",
   "execution_count": 1,
   "metadata": {},
   "outputs": [],
   "source": [
    "from rerf.rerfClassifier import rerfClassifier\n",
    "import numpy as np"
   ]
  },
  {
   "cell_type": "code",
   "execution_count": 2,
   "metadata": {},
   "outputs": [],
   "source": [
    "def sample_Xy(n=10):\n",
    "    X = []\n",
    "    y = []\n",
    "    \n",
    "    for i in range(n):\n",
    "        # Class 0\n",
    "        X.append(np.asarray([[0,1,0],[0,-1,0],[0,1,0]]).flatten())\n",
    "        y.append(0)\n",
    "        \n",
    "        # Class 1\n",
    "        X.append(np.asarray([[0,-1,0],[0,1,0],[0,-1,0]]).flatten())\n",
    "        y.append(1)\n",
    "    \n",
    "    return(np.asarray(X), np.asarray(y))"
   ]
  },
  {
   "cell_type": "code",
   "execution_count": 3,
   "metadata": {},
   "outputs": [],
   "source": [
    "X,y = sample_Xy(1)\n",
    "\n",
    "n_channels = 3\n",
    "ncols = 3\n",
    "wmax = 3\n",
    "wmin = 3\n",
    "ncores = 1\n",
    "n_est = 1"
   ]
  },
  {
   "cell_type": "code",
   "execution_count": 4,
   "metadata": {},
   "outputs": [],
   "source": [
    "hmax = 2\n",
    "hmin = 2\n",
    "\n",
    "clf = rerfClassifier(projection_matrix=\"S-RerF\",\n",
    "                   max_features='auto',\n",
    "                   n_jobs=ncores,\n",
    "                    n_estimators=n_est,\n",
    "                    oob_score=False,\n",
    "                    random_state=0,\n",
    "                    image_height=n_channels,\n",
    "                    image_width=ncols,\n",
    "                    patch_height_max=hmax,\n",
    "                    patch_height_min=hmin,\n",
    "                    patch_width_max=wmax,\n",
    "                    patch_width_min=wmin\n",
    "                   )"
   ]
  },
  {
   "cell_type": "code",
   "execution_count": 5,
   "metadata": {},
   "outputs": [
    {
     "data": {
      "text/plain": [
       "1.0"
      ]
     },
     "execution_count": 5,
     "metadata": {},
     "output_type": "execute_result"
    }
   ],
   "source": [
    "# %%\n",
    "clf.fit(X,y)\n",
    "clf.score(X,y)"
   ]
  },
  {
   "cell_type": "code",
   "execution_count": null,
   "metadata": {},
   "outputs": [],
   "source": []
  }
 ],
 "metadata": {
  "kernelspec": {
   "display_name": "Python [conda env:morf-dev]",
   "language": "python",
   "name": "conda-env-morf-dev-py"
  },
  "language_info": {
   "codemirror_mode": {
    "name": "ipython",
    "version": 3
   },
   "file_extension": ".py",
   "mimetype": "text/x-python",
   "name": "python",
   "nbconvert_exporter": "python",
   "pygments_lexer": "ipython3",
   "version": "3.8.1"
  }
 },
 "nbformat": 4,
 "nbformat_minor": 4
}
