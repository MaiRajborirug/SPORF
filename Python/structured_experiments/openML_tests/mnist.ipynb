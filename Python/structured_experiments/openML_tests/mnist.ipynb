{
 "cells": [
  {
   "cell_type": "code",
   "execution_count": 1,
   "metadata": {},
   "outputs": [],
   "source": [
    "import time\n",
    "import matplotlib.pyplot as plt\n",
    "import numpy as np\n",
    "\n",
    "from sklearn.datasets import fetch_openml\n",
    "from sklearn.model_selection import train_test_split\n",
    "from sklearn.preprocessing import StandardScaler\n",
    "from sklearn.utils import check_random_state\n",
    "\n",
    "from rerf.rerfClassifier import rerfClassifier\n",
    "\n",
    "from tqdm import tqdm"
   ]
  },
  {
   "cell_type": "code",
   "execution_count": 22,
   "metadata": {},
   "outputs": [],
   "source": [
    "# Load data from https://www.openml.org/d/554\n",
    "X, y = fetch_openml('mnist_784', version=1, return_X_y=True)"
   ]
  },
  {
   "cell_type": "code",
   "execution_count": 6,
   "metadata": {},
   "outputs": [
    {
     "name": "stdout",
     "output_type": "stream",
     "text": [
      "(70000, 784)\n"
     ]
    }
   ],
   "source": [
    "print(X.shape)"
   ]
  },
  {
   "cell_type": "code",
   "execution_count": 26,
   "metadata": {},
   "outputs": [],
   "source": [
    "train_samples = 100"
   ]
  },
  {
   "cell_type": "code",
   "execution_count": 40,
   "metadata": {},
   "outputs": [],
   "source": [
    "random_state = check_random_state(0)\n",
    "permutation = random_state.permutation(X.shape[0])\n",
    "X = X[permutation]\n",
    "y = y[permutation].astype(int)\n",
    "X = X.reshape((X.shape[0], -1))\n",
    "\n",
    "X_train, X_test, y_train, y_test = train_test_split(\n",
    "    X, y, train_size=train_samples, test_size=10000)\n",
    "\n",
    "scaler = StandardScaler()\n",
    "X_train = scaler.fit_transform(X_train)\n",
    "X_test = scaler.transform(X_test)"
   ]
  },
  {
   "cell_type": "code",
   "execution_count": 10,
   "metadata": {},
   "outputs": [],
   "source": [
    "#val_idx + test_idx\n",
    "ncores=1\n",
    "num_runs=1\n",
    "n_est=500\n",
    "\n",
    "feature_range = [10,30,60,100,150]\n",
    "patch_max = [3,5,8,11]"
   ]
  },
  {
   "cell_type": "code",
   "execution_count": 18,
   "metadata": {},
   "outputs": [],
   "source": [
    "clf = rerfClassifier(\n",
    "            projection_matrix=\"S-RerF\", \n",
    "            max_features = 60,\n",
    "            n_estimators=n_est,\n",
    "            n_jobs=ncores,\n",
    "            image_height=28, \n",
    "            image_width=28, \n",
    "            patch_height_max=3,\n",
    "            patch_width_max=3,\n",
    "            patch_height_min=1,\n",
    "            patch_width_min=1,\n",
    "        )"
   ]
  },
  {
   "cell_type": "code",
   "execution_count": null,
   "metadata": {},
   "outputs": [],
   "source": [
    "params {'max_features':feature_range, 'patch_height_max': patch_max, 'patch_width_max':patch_max}]\n",
    "skf = StratifiedShuffleSplit(n_splits=3)\n",
    "    \n",
    "gs = GridSearchCV(clf, params, cv=skf, verbose=1)\n",
    "gs.fit(X_train, y_train)\n",
    "clf_best = gs.best_estimator_"
   ]
  },
  {
   "cell_type": "code",
   "execution_count": 19,
   "metadata": {},
   "outputs": [],
   "source": [
    "ns = [100]#, 200, 500, 1000, 4000, 8000]"
   ]
  },
  {
   "cell_type": "code",
   "execution_count": 41,
   "metadata": {},
   "outputs": [
    {
     "name": "stderr",
     "output_type": "stream",
     "text": [
      "  0%|          | 0/1 [00:00<?, ?it/s]"
     ]
    },
    {
     "name": "stdout",
     "output_type": "stream",
     "text": [
      "[0 3 8 3 5 4 8 3 8 3 8 4 0 9 1 6 4 0 7 7 1 1 0 9 4 5 8 4 1 5 4 9 5 7 4 4 0\n",
      " 7 0 2 3 0 2 8 8 0 5 7 8 3 3 5 6 0 4 8 9 5 4 6 2 9 1 3 8 1 2 0 2 5 6 0 8 6\n",
      " 5 3 6 3 8 5 9 8 3 6 2 2 8 5 2 3 2 8 1 6 1 1 1 4 3 6]\n",
      "[100]\n",
      "0.0\n"
     ]
    },
    {
     "name": "stderr",
     "output_type": "stream",
     "text": [
      "100%|██████████| 1/1 [00:03<00:00,  3.68s/it]"
     ]
    },
    {
     "name": "stdout",
     "output_type": "stream",
     "text": [
      "0.2967\n"
     ]
    },
    {
     "name": "stderr",
     "output_type": "stream",
     "text": [
      "\n"
     ]
    }
   ],
   "source": [
    "write_path = f'mf_mnist.csv'\n",
    "\n",
    "with open(write_path, 'w') as f:\n",
    "    f.write(\"classifier,n,Lhat,trainTime,testTime,iterate\\n\")\n",
    "\n",
    "#runList = [(n, clf, iterate) for n in ns                             for clf in zip(best_clfs, [key for key in names])\n",
    "#                            for iterate in range(1, num_runs + 1)]\n",
    "\n",
    "iterate = 1\n",
    "\n",
    "for n in tqdm(ns):\n",
    "    trainStartTime = time.time()\n",
    "    clf.fit(X_train, y_train)\n",
    "    trainEndTime = time.time()\n",
    "    trainTime = trainEndTime - trainStartTime\n",
    "\n",
    "    out = clf.predict(X_train)\n",
    "    lhat = np.mean(np.not_equal(out, y_train).astype(int))\n",
    "    print(np.bincount(out - y_train))\n",
    "\n",
    "    print(lhat)\n",
    "    \n",
    "    testStartTime = time.time()\n",
    "    out = clf.predict(X_test)\n",
    "    testEndTime = time.time()\n",
    "    testTime = testEndTime - testStartTime\n",
    "\n",
    "    lhat = np.mean(np.not_equal(out, y_test).astype(int))\n",
    "    \n",
    "    print(lhat)\n",
    "\n",
    "    ####(\"variable,Lhat,trainTime,testTime,iterate\")\n",
    "    #with open(write_path, 'a') as f:\n",
    "    #    f.write(f\"{clf[1]}, {n}, {lhat:2.9f}, {trainTime:2.9f}, {testTime:2.9f}, {iterate}\\n\")"
   ]
  },
  {
   "cell_type": "code",
   "execution_count": null,
   "metadata": {},
   "outputs": [],
   "source": []
  }
 ],
 "metadata": {
  "kernelspec": {
   "display_name": "Python 3",
   "language": "python",
   "name": "python3"
  },
  "language_info": {
   "codemirror_mode": {
    "name": "ipython",
    "version": 3
   },
   "file_extension": ".py",
   "mimetype": "text/x-python",
   "name": "python",
   "nbconvert_exporter": "python",
   "pygments_lexer": "ipython3",
   "version": "3.7.3"
  }
 },
 "nbformat": 4,
 "nbformat_minor": 2
}
