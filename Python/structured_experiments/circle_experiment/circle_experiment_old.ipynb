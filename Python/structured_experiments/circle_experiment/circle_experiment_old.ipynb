{
 "cells": [
  {
   "cell_type": "markdown",
   "metadata": {},
   "source": [
    "# Problem statment \n",
    "\n",
    "Consider a 100-gon where 10 vertices are colored 1 and\n",
    "the rest are colored 0 according to the following rules: \n",
    "\n",
    "* Class 1 consists of two groups of 5 contiguous vertices colored 1.\n",
    "* Class 2 consists of two groups of 6 and 4 contiguous vertices, respectively, colored 1.\n",
    "\n",
    "\n",
    "## sampling toy data\n",
    "\n",
    "We sample equally from the distributions described above and futher divide them 50/50 into training and testing sets. \n"
   ]
  },
  {
   "cell_type": "code",
   "execution_count": 7,
   "metadata": {},
   "outputs": [],
   "source": [
    "import time\n",
    "#import matplotlib.pyplot as plt\n",
    "import numpy as np\n",
    "\n",
    "from sklearn.datasets import fetch_openml\n",
    "from sklearn.model_selection import train_test_split\n",
    "from sklearn.preprocessing import StandardScaler\n",
    "from sklearn.utils import check_random_state\n",
    "\n",
    "import rerf\n",
    "from rerf.rerfClassifier import rerfClassifier\n",
    "\n",
    "import pickle"
   ]
  },
  {
   "cell_type": "code",
   "execution_count": 3,
   "metadata": {},
   "outputs": [],
   "source": [
    "def samp(n1,n2):\n",
    "    n1,n2 = int(n1),int(n2)\n",
    "    X1 = np.empty((n1,100))\n",
    "    Y1 = np.full(n1,0)\n",
    "    for i in range(n1):        \n",
    "        cir = np.zeros(100)\n",
    "        \n",
    "        s1 = np.random.choice(range(0,100))        \n",
    "        l1 = [j%100 for j in range(s1,s1+5)]\n",
    "        \n",
    "        exclude_idx = set(l1).union(set([j%100 for j in range(s1-4,s1)]))\n",
    "        s2 = np.random.choice(list(set(range(0,100)).difference(exclude_idx)))\n",
    "        l2 = [j%100 for j in set(range(s2,s2+5)).difference(set(l1))]\n",
    "        \n",
    "        cir[l1] = 1\n",
    "        cir[l2] = 1\n",
    "        \n",
    "        X1[i] = cir\n",
    "        \n",
    "    X2 = np.empty((n2,100))\n",
    "    Y2 = np.full(n2,1)\n",
    "    for i in range(n2):        \n",
    "        cir = np.zeros(100)\n",
    "        \n",
    "        s1 = np.random.choice(range(0,100))        \n",
    "        l1 = [j%100 for j in range(s1,s1+4)]\n",
    "        \n",
    "        exclude_idx = set(l1).union(set([j%100 for j in range(s1-5,s1)]))\n",
    "        s2 = np.random.choice(list(set(range(0,100)).difference(exclude_idx)))\n",
    "        l2 = [j%100 for j in set(range(s2,s2+6)).difference(set(l1))]\n",
    "        \n",
    "        cir[l1] = 1\n",
    "        cir[l2] = 1\n",
    "        \n",
    "        X2[i] = cir\n",
    "        \n",
    "    return((np.vstack([X1,X2]),np.hstack([Y1,Y2])))"
   ]
  },
  {
   "cell_type": "code",
   "execution_count": 8,
   "metadata": {},
   "outputs": [],
   "source": [
    "np.random.seed(1234)\n",
    "n = 0.5 * np.array([400,800,2000,4000])\n",
    "n1 = n\n",
    "n2 = n\n",
    "TRAIN_FRAC = 0.5\n",
    "n1_train, n2_train = n1*TRAIN_FRAC, n2*TRAIN_FRAC\n",
    "n1_test, n2_test = n1*(1-TRAIN_FRAC), n2*(1-TRAIN_FRAC)"
   ]
  },
  {
   "cell_type": "code",
   "execution_count": 11,
   "metadata": {},
   "outputs": [],
   "source": [
    "X_train = []\n",
    "Y_train = []\n",
    "for i1,i2 in zip(n1_train,n2_train):\n",
    "    x_train,y_train = samp(i1,i2)\n",
    "    shuffled_idx = list(range(len(y_train))); np.random.shuffle(shuffled_idx)\n",
    "    X_train.append(x_train[shuffled_idx])\n",
    "    Y_train.append(y_train[shuffled_idx])"
   ]
  },
  {
   "cell_type": "code",
   "execution_count": 12,
   "metadata": {},
   "outputs": [],
   "source": [
    "X_test = []\n",
    "Y_test = []\n",
    "for i1,i2 in zip(n1_test,n2_test):\n",
    "    x_test,y_test = samp(i1,i2)\n",
    "    shuffled_idx = list(range(len(y_test))); np.random.shuffle(shuffled_idx)\n",
    "    X_test.append(x_test[shuffled_idx])\n",
    "    Y_test.append(y_test[shuffled_idx])"
   ]
  },
  {
   "cell_type": "markdown",
   "metadata": {},
   "source": [
    "# Running R-Rerf\n",
    "\n",
    "We have created samples and will run structured\n",
    "random forest on half and test on the rest. "
   ]
  },
  {
   "cell_type": "code",
   "execution_count": 13,
   "metadata": {},
   "outputs": [],
   "source": [
    "import itertools\n",
    "import pandas as pd\n",
    "import matplotlib.pyplot as plt\n",
    "%matplotlib inline"
   ]
  },
  {
   "cell_type": "code",
   "execution_count": 14,
   "metadata": {},
   "outputs": [],
   "source": [
    "from sklearn.model_selection import GridSearchCV\n",
    "import time"
   ]
  },
  {
   "cell_type": "markdown",
   "metadata": {},
   "source": [
    "### S-Rerf Results"
   ]
  },
  {
   "cell_type": "code",
   "execution_count": 15,
   "metadata": {},
   "outputs": [],
   "source": [
    "max_features = [1,5] + [i for i in range(20,101,20)] # (d) the number features to consider for best split\n",
    "image_width = 100 # iw\n",
    "image_height = 1 # ih\n",
    "patch_max = np.arange(2,16) # pm, the patch max size\n",
    "patch_min = 1"
   ]
  },
  {
   "cell_type": "code",
   "execution_count": 18,
   "metadata": {},
   "outputs": [
    {
     "name": "stdout",
     "output_type": "stream",
     "text": [
      "Run time: 1925.0597319602966\n",
      "Best Params: {'max_features': 40, 'patch_width_max': 15}\n"
     ]
    }
   ],
   "source": [
    "## S-Rerf Parameter Search\n",
    "parameters = {'max_features':max_features,\n",
    "                  'patch_width_max':patch_max}\n",
    "\n",
    "clf_s_rerf = rerfClassifier(projection_matrix=\"S-RerF\",\n",
    "                            n_estimators=100,\n",
    "                            oob_score=True,\n",
    "                            random_state=1,\n",
    "                            **{'image_height':image_height,\n",
    "                              'image_width':image_width,\n",
    "                              'patch_height_max':image_height,\n",
    "                              'patch_height_min':patch_min,\n",
    "                              'patch_width_min':patch_min}\n",
    "                            )\n",
    "gs_s_rerf = GridSearchCV(clf_s_rerf, parameters, cv=5)\n",
    "\n",
    "t0 = time.time()\n",
    "gs_s_rerf.fit(X_train[1],Y_train[1])\n",
    "run_time = time.time() - t0\n",
    "\n",
    "print('Run time:', run_time)\n",
    "print(\"Best Params:\", gs_s_rerf.best_params_)"
   ]
  },
  {
   "cell_type": "code",
   "execution_count": 19,
   "metadata": {},
   "outputs": [],
   "source": [
    "rerf_train_errs = np.empty(len(X_train))\n",
    "rerf_test_errs = np.empty(len(X_train))\n",
    "for i in range(len(X_train)):\n",
    "    clf_s_rerf = rerfClassifier(projection_matrix=\"S-RerF\",\n",
    "                                    n_estimators=100,\n",
    "                                    oob_score=True,\n",
    "                                    random_state=1,\n",
    "                                    **{'image_height':image_height,\n",
    "                                      'image_width':image_width,\n",
    "                                      'patch_height_max':image_height,\n",
    "                                      'patch_height_min':patch_min,\n",
    "                                      'patch_width_min':patch_min},\n",
    "                                    **gs_s_rerf.best_params_\n",
    "                                   )\n",
    "    \n",
    "    clf_s_rerf.fit(X_train[i],Y_train[i])\n",
    "    rerf_train_errs[i] = clf_s_rerf.score(X_train[i],Y_train[i])\n",
    "    rerf_test_errs[i] = clf_s_rerf.score(X_test[i],Y_test[i])"
   ]
  },
  {
   "cell_type": "markdown",
   "metadata": {},
   "source": [
    "### RF Results"
   ]
  },
  {
   "cell_type": "code",
   "execution_count": 20,
   "metadata": {},
   "outputs": [],
   "source": [
    "from sklearn.ensemble import RandomForestClassifier"
   ]
  },
  {
   "cell_type": "code",
   "execution_count": 21,
   "metadata": {},
   "outputs": [
    {
     "name": "stdout",
     "output_type": "stream",
     "text": [
      "Run time: 8.655664682388306\n",
      "Best Params: {'max_features': 100}\n"
     ]
    }
   ],
   "source": [
    "## RF Parameter Search\n",
    "\n",
    "parameters = {'max_features':max_features}\n",
    "\n",
    "clf_rf = RandomForestClassifier(n_estimators=100,\n",
    "                             random_state=1)\n",
    "\n",
    "gs_rf = GridSearchCV(clf_rf, parameters, cv=5)\n",
    "\n",
    "t0 = time.time()\n",
    "gs_rf.fit(X_train[1],Y_train[1])\n",
    "run_time = time.time() - t0\n",
    "\n",
    "print('Run time:', run_time)\n",
    "print(\"Best Params:\", gs_rf.best_params_)"
   ]
  },
  {
   "cell_type": "code",
   "execution_count": 22,
   "metadata": {},
   "outputs": [],
   "source": [
    "rf_train_errs = np.empty(len(X_train))\n",
    "rf_test_errs = np.empty(len(X_train))\n",
    "for i in range(len(X_train)):\n",
    "    clf_rf = RandomForestClassifier(n_estimators=100,\n",
    "                                    random_state=1,\n",
    "                                    **gs_rf.best_params_)\n",
    "                                    \n",
    "    clf_rf.fit(X_train[i],Y_train[i])\n",
    "    train_error = clf_rf.score(X_train[i],Y_train[i])\n",
    "    test_error = clf_rf.score(X_test[i],Y_test[i])\n",
    "\n",
    "    rf_train_errs[i] = train_error\n",
    "    rf_test_errs[i] = test_error"
   ]
  },
  {
   "cell_type": "markdown",
   "metadata": {},
   "source": [
    "### SVM Results"
   ]
  },
  {
   "cell_type": "code",
   "execution_count": 30,
   "metadata": {},
   "outputs": [],
   "source": [
    "from sklearn.svm import SVC"
   ]
  },
  {
   "cell_type": "code",
   "execution_count": 32,
   "metadata": {},
   "outputs": [
    {
     "name": "stdout",
     "output_type": "stream",
     "text": [
      "Run time: 21.393981456756592\n",
      "Best Params: {'C': 0.0001, 'gamma': 1}\n"
     ]
    }
   ],
   "source": [
    "## SVM Parameter Search\n",
    "\n",
    "Cs = [0.0001, 0.001, 0.01, 0.1, 1, 10]\n",
    "gammas = [0.001, 0.01, 0.1, 1, 10]\n",
    "parameters = {'C': Cs, 'gamma' : gammas}\n",
    "\n",
    "clf_svc = SVC(kernel='rbf',random_state=1)\n",
    "\n",
    "gs_svc = GridSearchCV(clf_svc, parameters, cv=5)\n",
    "\n",
    "t0 = time.time()\n",
    "gs_svc.fit(X_train[1],Y_train[1])\n",
    "run_time = time.time() - t0\n",
    "\n",
    "print('Run time:', run_time)\n",
    "print(\"Best Params:\", gs_svc.best_params_)"
   ]
  },
  {
   "cell_type": "code",
   "execution_count": 34,
   "metadata": {},
   "outputs": [],
   "source": [
    "svc_train_errs = np.empty(len(X_train))\n",
    "svc_test_errs = np.empty(len(X_train))\n",
    "for i in range(len(X_train)):\n",
    "    clf_svc = SVC(kernel='rbf',\n",
    "                   random_state=1,\n",
    "                   **gs_svc.best_params_)\n",
    "                                    \n",
    "    clf_svc.fit(X_train[i],Y_train[i])\n",
    "    train_error = clf_svc.score(X_train[i],Y_train[i])\n",
    "    test_error = clf_svc.score(X_test[i],Y_test[i])\n",
    "\n",
    "    svc_train_errs[i] = train_error\n",
    "    svc_test_errs[i] = test_error"
   ]
  },
  {
   "cell_type": "markdown",
   "metadata": {},
   "source": [
    "### Plot Results"
   ]
  },
  {
   "cell_type": "code",
   "execution_count": 37,
   "metadata": {},
   "outputs": [
    {
     "data": {
      "text/plain": [
       "<matplotlib.legend.Legend at 0x7fb2559b2e80>"
      ]
     },
     "execution_count": 37,
     "metadata": {},
     "output_type": "execute_result"
    },
    {
     "data": {
      "image/png": "[encoded data removed]",
      "text/plain": [
       "<Figure size 432x288 with 1 Axes>"
      ]
     },
     "metadata": {
      "needs_background": "light"
     },
     "output_type": "display_data"
    }
   ],
   "source": [
    "#plt.plot(c1_train + c2_train, 1-train_errs)\n",
    "plt.plot(c1_train + c2_train, 1-test_errs)\n",
    "\n",
    "#plt.plot(c1_train + c2_train, 1-rf_train_errs)\n",
    "plt.plot(c1_train + c2_train, 1-rf_test_errs)\n",
    "\n",
    "plt.plot(c1_train + c2_train, 1-svc_test_errs)\n",
    "\n",
    "plt.title('Circle experiment test data error rates')\n",
    "plt.xlabel('n')\n",
    "plt.ylabel('Error')\n",
    "#plt.legend(['RerF Train','RerF Test','RF Train','RF Test'],loc='best')\n",
    "plt.legend(['RerF','RF','SVM'],loc='best')"
   ]
  },
  {
   "cell_type": "markdown",
   "metadata": {},
   "source": [
    "## Full"
   ]
  },
  {
   "cell_type": "code",
   "execution_count": null,
   "metadata": {},
   "outputs": [],
   "source": []
  }
 ],
 "metadata": {
  "kernelspec": {
   "display_name": "Python 3",
   "language": "python",
   "name": "python3"
  },
  "language_info": {
   "codemirror_mode": {
    "name": "ipython",
    "version": 3
   },
   "file_extension": ".py",
   "mimetype": "text/x-python",
   "name": "python",
   "nbconvert_exporter": "python",
   "pygments_lexer": "ipython3",
   "version": "3.7.3"
  }
 },
 "nbformat": 4,
 "nbformat_minor": 2
}
