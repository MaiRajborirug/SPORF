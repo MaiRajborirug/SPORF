{
 "cells": [
  {
   "cell_type": "markdown",
   "metadata": {},
   "source": [
    "# Multi Channel Time Series Classification"
   ]
  },
  {
   "cell_type": "code",
   "execution_count": 1,
   "metadata": {},
   "outputs": [],
   "source": [
    "import pandas as pd\n",
    "from scipy import stats\n",
    "import numpy as np\n",
    "\n",
    "import matplotlib\n",
    "import matplotlib.pyplot as plt\n",
    "from matplotlib.colors import ListedColormap\n",
    "%matplotlib inline\n",
    "import seaborn as sns\n",
    "\n",
    "import pickle\n",
    "import time\n",
    "from tqdm import tqdm\n",
    "\n",
    "from sklearn.model_selection import train_test_split\n",
    "from sklearn.linear_model import LogisticRegression\n",
    "from sklearn.svm import LinearSVC\n",
    "from sklearn.svm import SVC\n",
    "from sklearn.ensemble import RandomForestClassifier\n",
    "from sklearn.neural_network import MLPClassifier\n",
    "from sklearn.neighbors import KNeighborsClassifier\n",
    "\n",
    "from rerf.rerfClassifier import rerfClassifier\n",
    "\n",
    "import warnings\n",
    "warnings.simplefilter('ignore')"
   ]
  },
  {
   "cell_type": "code",
   "execution_count": 3,
   "metadata": {},
   "outputs": [],
   "source": [
    "# simulated data parameters\n",
    "T = 100\n",
    "nchs = 6"
   ]
  },
  {
   "cell_type": "code",
   "execution_count": 4,
   "metadata": {},
   "outputs": [],
   "source": [
    "## Setup for run\n",
    "names = {\"S-RerF\":\"red\", \"MT-MORF\": \"orange\"}\n",
    "\n",
    "ncores=1\n",
    "num_runs=1\n",
    "n_est=100  # number of estimators\n",
    "\n",
    "classifiers = [\n",
    "    rerfClassifier(projection_matrix=\"S-RerF\",\n",
    "                   max_features='auto',\n",
    "                   n_jobs=ncores,\n",
    "                    n_estimators=n_est,\n",
    "                    oob_score=False,\n",
    "                    random_state=0,\n",
    "                    image_height=nchs,\n",
    "                    image_width=T,\n",
    "                    patch_height_max=3,\n",
    "                    patch_height_min=1,\n",
    "                    patch_width_max=20,\n",
    "                    patch_width_min=5\n",
    "                   ),\n",
    "    rerfClassifier(projection_matrix=\"MT-MORF\",\n",
    "                   max_features='auto',\n",
    "                   n_jobs=ncores,\n",
    "                    n_estimators=n_est,\n",
    "                    oob_score=False,\n",
    "                    random_state=0,\n",
    "                    image_height=nchs,\n",
    "                    image_width=T,\n",
    "                    patch_height_max=3,\n",
    "                    patch_height_min=1,\n",
    "                    patch_width_max=20,\n",
    "                    patch_width_min=5\n",
    "                   )\n",
    "    ]"
   ]
  },
  {
   "cell_type": "code",
   "execution_count": null,
   "metadata": {},
   "outputs": [],
   "source": []
  }
 ],
 "metadata": {
  "kernelspec": {
   "display_name": "Python 3.6.9 64-bit",
   "language": "python",
   "name": "python36964bit53fd3cd604f940d1bf12dc62cb04f92e"
  },
  "language_info": {
   "codemirror_mode": {
    "name": "ipython",
    "version": 3
   },
   "file_extension": ".py",
   "mimetype": "text/x-python",
   "name": "python",
   "nbconvert_exporter": "python",
   "pygments_lexer": "ipython3",
   "version": "3.6.9"
  }
 },
 "nbformat": 4,
 "nbformat_minor": 4
}
