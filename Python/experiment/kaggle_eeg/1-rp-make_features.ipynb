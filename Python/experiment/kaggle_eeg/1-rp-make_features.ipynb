{
 "cells": [
  {
   "cell_type": "markdown",
   "metadata": {},
   "source": [
    "# Load and visualize EEG data"
   ]
  },
  {
   "cell_type": "code",
   "execution_count": 1,
   "metadata": {},
   "outputs": [],
   "source": [
    "import numpy as np\n",
    "import pandas as pd\n",
    "\n",
    "from pathlib import Path\n",
    "import os\n",
    "from glob import glob\n",
    "\n",
    "import h5py\n",
    "from collections import namedtuple\n",
    "from sklearn.preprocessing import StandardScaler\n",
    "\n",
    "import matplotlib.pyplot as plt\n",
    "import seaborn as sns\n",
    "%matplotlib inline"
   ]
  },
  {
   "cell_type": "code",
   "execution_count": 2,
   "metadata": {},
   "outputs": [],
   "source": [
    "## Paths\n",
    "base_dir = Path('/mnt/ssd3/ronan/grasp-and-lift-eeg-detection')\n",
    "raw_dir = base_dir / 'raw' / 'train'\n",
    "\n",
    "# Columns name for labels\n",
    "cols = ['HandStart','FirstDigitTouch',\n",
    "        'BothStartLoadPhase','LiftOff',\n",
    "        'Replace','BothReleased']\n",
    "\n",
    "# Number of subjects\n",
    "subjects = range(1,13)"
   ]
  },
  {
   "cell_type": "markdown",
   "metadata": {},
   "source": [
    "## Data Loaders"
   ]
  },
  {
   "cell_type": "code",
   "execution_count": 3,
   "metadata": {},
   "outputs": [],
   "source": [
    "def prepare_data_train(fname):\n",
    "    \"\"\" read and prepare training data \"\"\"\n",
    "    # Read data\n",
    "    data = pd.read_csv(fname)\n",
    "    # events file\n",
    "    events_fname = fname.replace('_data','_events')\n",
    "    # read event file\n",
    "    labels= pd.read_csv(events_fname)\n",
    "    clean=data.drop(['id' ], axis=1)#remove id\n",
    "    labels=labels.drop(['id' ], axis=1)#remove id\n",
    "    return  clean,labels\n",
    "\n",
    "def get_raw_data(data_dir, subjects):\n",
    "    y = []\n",
    "    X = []\n",
    "    sub_list = []\n",
    "    for i,subject in enumerate(subjects):\n",
    "        ################ READ DATA ################################################\n",
    "        fnames =  glob(str(data_dir / f'subj{subject}_series*_data.csv'))\n",
    "        for fname in fnames:\n",
    "            data,labels=prepare_data_train(fname)\n",
    "            X.append(np.asarray(data))\n",
    "            y.append(np.asarray(labels))\n",
    "            sub_list.append(subject)\n",
    "\n",
    "    return (X, y, np.asarray(sub_list))"
   ]
  },
  {
   "cell_type": "markdown",
   "metadata": {},
   "source": [
    "## Helper Functions"
   ]
  },
  {
   "cell_type": "code",
   "execution_count": 14,
   "metadata": {},
   "outputs": [],
   "source": [
    "def consecutive_regions(a, val=1):\n",
    "    \"\"\"\n",
    "    Parameters\n",
    "    ----------\n",
    "    a : 1-D array\n",
    "    \n",
    "    Returns\n",
    "    -------\n",
    "    Returns a list of regions where value `val` is in array `a`\n",
    "    Regions in a named tuple of start index and length\n",
    "    \"\"\"\n",
    "    Region = namedtuple('Region', ['start', 'length'])\n",
    "    regions = []\n",
    "    hit = False\n",
    "    start_idx = None\n",
    "    for i,d in enumerate(a):\n",
    "        if d == val and hit == False:\n",
    "            hit = True\n",
    "            start_idx = i\n",
    "        elif not d == val and hit == True:\n",
    "            hit = False\n",
    "            regions.append(Region(start_idx, i - start_idx))\n",
    "            \n",
    "    if hit == True:\n",
    "        regions.append(Region(start_idx, len(a) - start_idx))\n",
    "        \n",
    "    return regions\n",
    "\n",
    "def get_region_dict(data, cols):\n",
    "    \"\"\"\n",
    "    Parameters\n",
    "    ----------\n",
    "    data : 2-D array-like of labels\n",
    "        rows = timesteps, cols = classes\n",
    "    \n",
    "    Returns\n",
    "    -------\n",
    "    Returns dictionary of regions for each classification label \n",
    "    in `cols` and `None`\n",
    "    \"\"\"\n",
    "    region_dict = dict()\n",
    "    zeros_all = np.sum(data, axis=1)\n",
    "    \n",
    "    region_dict['None'] = consecutive_regions(zeros_all, val=0)\n",
    "    \n",
    "    for label, array in zip(cols, data.T):\n",
    "        region_dict[label] = consecutive_regions(array, val=1)\n",
    "        \n",
    "    return region_dict\n",
    "\n",
    "def sample_active_sites(regions, data, label, prelag=500, postlag=500):\n",
    "    \"\"\"\n",
    "    Samples regions from motion sides with specified lags\n",
    "\n",
    "    Parameters\n",
    "    ----------\n",
    "    data : 2-D array-like\n",
    "        rows = sensors, cols = timesteps\n",
    "        \n",
    "    Returns\n",
    "    -------\n",
    "    X : array of flattened (#channels x #timesteps) matrix with \n",
    "        prelag steps before action and postlag steps after\n",
    "    y : class label for each flattened matrix\n",
    "    \n",
    "    \"\"\"\n",
    "    X = []\n",
    "    y = []\n",
    "    for region in regions:\n",
    "        if region.start >= prelag:\n",
    "            X.append(data.T[:, region.start-prelag: region.start+postlag].flatten())\n",
    "            y.append(label)\n",
    "            \n",
    "    return(np.asarray(X), np.asarray(y))\n",
    "\n",
    "def sample_inactive_sites(regions, data, label, prelag=500, postlag=500):\n",
    "    \"\"\"\n",
    "    Samples max number of independent regions of inactive sites\n",
    "    \n",
    "    Parameters\n",
    "    ----------\n",
    "    data : 2-D array-like\n",
    "        rows = sensors, cols = timesteps\n",
    "        \n",
    "    Returns\n",
    "    -------\n",
    "    X : array of flattened (#channels x #timesteps) matrix with \n",
    "        prelag steps before action and postlag steps after\n",
    "    y : class label for each flattened matrix\n",
    "    \n",
    "    \"\"\"\n",
    "    X = []\n",
    "    y = []\n",
    "    for region in regions:\n",
    "        lag = (prelag + postlag)\n",
    "        num_intervals = int(region.length / lag)\n",
    "        for n in range(num_intervals - 1):\n",
    "            X.append(data.T[:, region.start+postlag+n*lag: region.start+postlag+(n+1)*lag].flatten())\n",
    "            y.append(label)\n",
    "            \n",
    "    return(np.asarray(X), np.asarray(y))"
   ]
  },
  {
   "cell_type": "markdown",
   "metadata": {},
   "source": [
    "## Make Features\n",
    "Pipeline per subject\n",
    "1. Load all series from a subject (series x timesteps x channels)\n",
    "2. Convert each series to class class (series x class x tuples(start, length))\n",
    "3. Sample active sites from regions (series*class x (channels x timesteps))\n",
    "4. Concatenate samples from each series (X,y)\n",
    "5. Save to file"
   ]
  },
  {
   "cell_type": "code",
   "execution_count": 15,
   "metadata": {},
   "outputs": [],
   "source": [
    "# Subject to load\n",
    "subject = 1\n",
    "prelag = 500\n",
    "postlag = 500"
   ]
  },
  {
   "cell_type": "code",
   "execution_count": 16,
   "metadata": {},
   "outputs": [
    {
     "name": "stdout",
     "output_type": "stream",
     "text": [
      "Loading data from /mnt/ssd3/ronan/grasp-and-lift-eeg-detection/raw/train\n"
     ]
    }
   ],
   "source": [
    "# -> (series x (timesteps x channels))\n",
    "print(f'Loading data from {raw_dir}')\n",
    "X_raw,y_raw,subs = get_raw_data(raw_dir, [subject])"
   ]
  },
  {
   "cell_type": "code",
   "execution_count": 17,
   "metadata": {},
   "outputs": [],
   "source": [
    "# Standardize\n",
    "scaler = StandardScaler()\n",
    "X_raw = [scaler.fit_transform(Xr) for Xr in X_raw]"
   ]
  },
  {
   "cell_type": "code",
   "execution_count": 18,
   "metadata": {},
   "outputs": [],
   "source": [
    "# -> (series x dict{class, tuples(start, length)})\n",
    "region_dicts = [get_region_dict(y_series, cols) for y_series in y_raw]"
   ]
  },
  {
   "cell_type": "code",
   "execution_count": 19,
   "metadata": {},
   "outputs": [],
   "source": [
    "# -> (class*series x (channels x timesteps))\n",
    "X = []\n",
    "y = []\n",
    "for series, region_dict in enumerate(region_dicts):\n",
    "    Xi, yi = sample_active_sites(region_dict['None'], X_raw[series], label=0, prelag=prelag, postlag=postlag)\n",
    "    X.append(Xi)\n",
    "    y.append(yi)\n",
    "    for i,key in enumerate(cols):\n",
    "        Xi, yi = sample_active_sites(region_dict[key], X_raw[series], label=i+1, prelag=prelag, postlag=postlag)\n",
    "        X.append(Xi)\n",
    "        y.append(yi)"
   ]
  },
  {
   "cell_type": "code",
   "execution_count": 20,
   "metadata": {},
   "outputs": [],
   "source": [
    "# Concatenate samples from each series -> (X,y)\n",
    "X = np.concatenate(X, axis=0)\n",
    "y = np.concatenate(y)"
   ]
  },
  {
   "cell_type": "code",
   "execution_count": 24,
   "metadata": {},
   "outputs": [
    {
     "name": "stdout",
     "output_type": "stream",
     "text": [
      "(2430, 32000)\n"
     ]
    },
    {
     "data": {
      "image/png": "[encoded data removed]",
      "text/plain": [
       "<Figure size 432x288 with 1 Axes>"
      ]
     },
     "metadata": {
      "needs_background": "light"
     },
     "output_type": "display_data"
    }
   ],
   "source": [
    "print(X.shape)\n",
    "plt.hist(y)\n",
    "plt.show()"
   ]
  },
  {
   "cell_type": "code",
   "execution_count": 25,
   "metadata": {},
   "outputs": [],
   "source": [
    "# Save\n",
    "save_dir = base_dir / 'processed'\n",
    "\n",
    "if not os.path.exists(save_dir): \n",
    "    os.makedirs(save_dir)\n",
    "\n",
    "h5f = h5py.File(save_dir / f'subj{subject}_prelag={prelag}_postlag={postlag}_Xy.hdf5', 'w')\n",
    "h5f.create_dataset('X', data=X)\n",
    "h5f.create_dataset('y', data=y)\n",
    "\n",
    "h5f.close()"
   ]
  }
 ],
 "metadata": {
  "kernelspec": {
   "display_name": "ts_rerf",
   "language": "python",
   "name": "ts_rerf"
  },
  "language_info": {
   "codemirror_mode": {
    "name": "ipython",
    "version": 3
   },
   "file_extension": ".py",
   "mimetype": "text/x-python",
   "name": "python",
   "nbconvert_exporter": "python",
   "pygments_lexer": "ipython3",
   "version": "3.6.9"
  }
 },
 "nbformat": 4,
 "nbformat_minor": 2
}
