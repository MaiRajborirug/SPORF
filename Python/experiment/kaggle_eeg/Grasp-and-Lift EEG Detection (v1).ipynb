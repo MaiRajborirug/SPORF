{
 "cells": [
  {
   "cell_type": "markdown",
   "metadata": {},
   "source": [
    "# Kaggle EEG Classification with Time Series MORF"
   ]
  },
  {
   "cell_type": "code",
   "execution_count": 2,
   "metadata": {},
   "outputs": [],
   "source": [
    "import numpy as np\n",
    "import pandas as pd\n",
    "from glob import glob\n",
    "import os\n",
    "from pathlib import Path\n",
    "import matplotlib.pyplot as plt\n",
    "%matplotlib inline\n",
    "\n",
    "from sklearn.preprocessing import StandardScaler\n",
    "from sklearn.metrics import balanced_accuracy_score\n",
    "from rerf import rerfClassifier"
   ]
  },
  {
   "cell_type": "code",
   "execution_count": 3,
   "metadata": {},
   "outputs": [],
   "source": [
    "def prepare_data_train(fname):\n",
    "    \"\"\" read and prepare training data \"\"\"\n",
    "    # Read data\n",
    "    data = pd.read_csv(fname)\n",
    "    # events file\n",
    "    events_fname = fname.replace('_data','_events')\n",
    "    # read event file\n",
    "    labels= pd.read_csv(events_fname)\n",
    "    clean=data.drop(['id' ], axis=1)#remove id\n",
    "    labels=labels.drop(['id' ], axis=1)#remove id\n",
    "    return  clean,labels\n",
    "\n",
    "def prepare_data_test(fname):\n",
    "    \"\"\" read and prepare test data \"\"\"\n",
    "    # Read data\n",
    "    data = pd.read_csv(fname)\n",
    "    return data\n",
    "\n",
    "def data_preprocess_train(X):\n",
    "    scaler= StandardScaler()\n",
    "    X_prep=scaler.fit_transform(X)\n",
    "    return X_prep\n",
    "\n",
    "def moving_window(a, window, step_size=1):\n",
    "    n,m = a.shape\n",
    "    shape = (n - window + 1, window, m)\n",
    "    strides = a.strides + (a.strides[-1] * step_size,)\n",
    "    np.lib.stride_tricks.as_strided(a, shape=shape, strides=strides).reshape(n-window+1, -1)"
   ]
  },
  {
   "cell_type": "code",
   "execution_count": 4,
   "metadata": {},
   "outputs": [],
   "source": [
    "# Paths\n",
    "data_dir = Path('/mnt/ssd3/ronan/grasp-and-lift-eeg-detection/')\n",
    "train_dir = data_dir / 'train'\n",
    "test_dir = data_dir / 'test'\n",
    "\n",
    "# Columns name for labels\n",
    "cols = ['HandStart','FirstDigitTouch',\n",
    "        'BothStartLoadPhase','LiftOff',\n",
    "        'Replace','BothReleased']\n",
    "\n",
    "# Number of subjects\n",
    "subjects = range(1,13)\n",
    "ids_tot = []\n",
    "pred_tot = []"
   ]
  },
  {
   "cell_type": "markdown",
   "metadata": {},
   "source": [
    "## Training"
   ]
  },
  {
   "cell_type": "code",
   "execution_count": 5,
   "metadata": {},
   "outputs": [],
   "source": [
    "# Parameters\n",
    "window_width = 100\n",
    "n_channels = 32"
   ]
  },
  {
   "cell_type": "code",
   "execution_count": 13,
   "metadata": {},
   "outputs": [],
   "source": [
    "for i,subject in enumerate(subjects):\n",
    "    y_raw= []\n",
    "    raw = []\n",
    "    ################ READ DATA ################################################\n",
    "    fnames =  glob(str(train_dir / f'subj{subject}_series*_data.csv'))\n",
    "    for fname in fnames:\n",
    "        data,labels=prepare_data_train(fname)\n",
    "        raw.append(data)\n",
    "        y_raw.append(labels)\n",
    "\n",
    "    X_train = np.asarray(pd.concat(raw).astype(float))\n",
    "    y_train = np.asarray(pd.concat(y_raw).astype(float))\n",
    "    #transform in numpy array\n",
    "    #transform train data in numpy array\n",
    "    #moving_window(X_train, window_width)\n",
    "    y_train = np.asarray(y_train)\n",
    "    y_dict = {i: y_train[:,i] for i in range(y_train.shape[1])}\n",
    "    \n",
    "    if i > 1:\n",
    "        break"
   ]
  },
  {
   "cell_type": "markdown",
   "metadata": {},
   "source": [
    "## Testing"
   ]
  },
  {
   "cell_type": "code",
   "execution_count": null,
   "metadata": {},
   "outputs": [],
   "source": [
    "for i,subject in enumerate(subjects):\n",
    "    fnames =  glob(str(test_dir / f'subj{subject}_series*_data.csv'))\n",
    "    test = []\n",
    "    idx=[]\n",
    "    for fname in fnames:\n",
    "        data=prepare_data_test(fname)\n",
    "        test.append(data)\n",
    "        idx.append(np.array(data['id']))\n",
    "    X_test= pd.concat(test)\n",
    "    ids=np.concatenate(idx)\n",
    "    ids_tot.append(ids)\n",
    "    X_test=X_test.drop(['id' ], axis=1)#remove id\n",
    "    #transform test data in numpy array\n",
    "    X_test = np.asarray(X_test.astype(float))\n",
    "    \n",
    "    if i > 1:\n",
    "        break"
   ]
  },
  {
   "cell_type": "markdown",
   "metadata": {},
   "source": [
    "## Test Plots"
   ]
  },
  {
   "cell_type": "code",
   "execution_count": 16,
   "metadata": {},
   "outputs": [],
   "source": [
    "sums = sum(y_dict.values())[:3000]"
   ]
  },
  {
   "cell_type": "code",
   "execution_count": 17,
   "metadata": {},
   "outputs": [
    {
     "data": {
      "image/png": "[encoded data removed]",
      "text/plain": [
       "<Figure size 432x288 with 1 Axes>"
      ]
     },
     "metadata": {
      "needs_background": "light"
     },
     "output_type": "display_data"
    }
   ],
   "source": [
    "plt.scatter(np.arange(len(sums)), sums)\n",
    "plt.show()"
   ]
  }
 ],
 "metadata": {
  "kernelspec": {
   "display_name": "Python 3.6.9 64-bit",
   "language": "python",
   "name": "python36964bite56226f122fe46bfb18dc95209ecfe50"
  },
  "language_info": {
   "codemirror_mode": {
    "name": "ipython",
    "version": 3
   },
   "file_extension": ".py",
   "mimetype": "text/x-python",
   "name": "python",
   "nbconvert_exporter": "python",
   "pygments_lexer": "ipython3",
   "version": "3.6.9"
  }
 },
 "nbformat": 4,
 "nbformat_minor": 2
}
