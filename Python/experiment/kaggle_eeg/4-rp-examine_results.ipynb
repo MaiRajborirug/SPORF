{
 "cells": [
  {
   "cell_type": "code",
   "execution_count": 12,
   "metadata": {},
   "outputs": [],
   "source": [
    "import numpy as np\n",
    "import matplotlib.pyplot as plt\n",
    "import seaborn as sns\n",
    "import pandas as pd\n",
    "from pathlib import Path\n",
    "%matplotlib inline\n",
    "\n",
    "from sklearn.metrics import confusion_matrix"
   ]
  },
  {
   "cell_type": "code",
   "execution_count": 31,
   "metadata": {},
   "outputs": [],
   "source": [
    "predictions_path = 'Predictions_unscaled_03-24-14:16.csv'"
   ]
  },
  {
   "cell_type": "code",
   "execution_count": 32,
   "metadata": {},
   "outputs": [],
   "source": [
    "preds = pd.read_csv(predictions_path, header=None)"
   ]
  },
  {
   "cell_type": "code",
   "execution_count": 33,
   "metadata": {},
   "outputs": [],
   "source": [
    "true0 = preds.iloc[0][2:].to_numpy()\n",
    "true1 = preds.iloc[6][2:].to_numpy()\n",
    "true2 = preds.iloc[12][2:].to_numpy()\n",
    "\n",
    "n0 = preds.iloc[5][2:].to_numpy()\n",
    "n1 = preds.iloc[11][2:].to_numpy()\n",
    "n2 = preds.iloc[17][2:].to_numpy()"
   ]
  },
  {
   "cell_type": "code",
   "execution_count": 34,
   "metadata": {},
   "outputs": [
    {
     "data": {
      "text/plain": [
       "array([[467,   6,   6,   3,   5,   7,  28],\n",
       "       [ 44, 111,   0,   0,   0,   1,   0],\n",
       "       [ 58,   1,  37,  52,   0,   7,   1],\n",
       "       [ 62,   2,  61,  21,   7,   1,   2],\n",
       "       [122,   0,   4,   6,  23,   0,   1],\n",
       "       [ 52,   1,   3,   2,   0,  70,  28],\n",
       "       [ 82,   1,   0,   0,   0,  37,  36]])"
      ]
     },
     "execution_count": 34,
     "metadata": {},
     "output_type": "execute_result"
    }
   ],
   "source": [
    "confusion_matrix(np.concatenate((true0,true1,true2)), np.concatenate((n0,n1,n2)))"
   ]
  },
  {
   "cell_type": "code",
   "execution_count": 35,
   "metadata": {},
   "outputs": [
    {
     "data": {
      "text/plain": [
       "array([[153,   2,   3,   1,   2,   5,   8],\n",
       "       [ 17,  35,   0,   0,   0,   0,   0],\n",
       "       [ 16,   0,  16,  16,   0,   3,   1],\n",
       "       [ 24,   0,  18,   7,   2,   1,   0],\n",
       "       [ 38,   0,   2,   4,   7,   0,   1],\n",
       "       [ 24,   0,   2,   1,   0,  16,   9],\n",
       "       [ 26,   1,   0,   0,   0,  13,  12]])"
      ]
     },
     "execution_count": 35,
     "metadata": {},
     "output_type": "execute_result"
    }
   ],
   "source": [
    "confusion_matrix(true1, n1)"
   ]
  },
  {
   "cell_type": "code",
   "execution_count": null,
   "metadata": {},
   "outputs": [],
   "source": []
  }
 ],
 "metadata": {
  "kernelspec": {
   "display_name": "Python 3.6.9 64-bit",
   "language": "python",
   "name": "python36964bit53fd3cd604f940d1bf12dc62cb04f92e"
  },
  "language_info": {
   "codemirror_mode": {
    "name": "ipython",
    "version": 3
   },
   "file_extension": ".py",
   "mimetype": "text/x-python",
   "name": "python",
   "nbconvert_exporter": "python",
   "pygments_lexer": "ipython3",
   "version": "3.6.9"
  }
 },
 "nbformat": 4,
 "nbformat_minor": 4
}
