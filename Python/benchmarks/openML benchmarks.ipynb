{
 "cells": [
  {
   "cell_type": "code",
   "execution_count": 2,
   "metadata": {},
   "outputs": [],
   "source": [
    "import openml\n",
    "from RerF import fastRerF, fastPredict\n",
    "from sklearn.ensemble import RandomForestClassifier, ExtraTreesClassifier\n",
    "from tqdm import tqdm_notebook as tqdm\n",
    "import numpy as np\n",
    "import time"
   ]
  },
  {
   "cell_type": "code",
   "execution_count": 10,
   "metadata": {},
   "outputs": [
    {
     "name": "stdout",
     "output_type": "stream",
     "text": [
      "[3, 6, 11, 12, 14, 15, 16, 18, 22, 23, 28, 29, 31, 32, 37, 43, 45, 49, 53, 219, 2074, 2079, 3021, 3022, 3481, 3549, 3560, 3573, 3902, 3903, 3904, 3913, 3917, 3918, 7592, 9910, 9946, 9952, 9957, 9960, 9964, 9971, 9976, 9977, 9978, 9981, 9985, 10093, 10101, 14952, 14954, 14965, 14969, 14970, 125920, 125922, 146195, 146800, 146817, 146819, 146820, 146821, 146822, 146824, 146825, 167119, 167120, 167121, 167124, 167125, 167140, 167141]\n"
     ]
    }
   ],
   "source": [
    "benchmark_suite = openml.study.get_study('OpenML-CC18','tasks') # obtain the benchmark suite\n",
    "print(benchmark_suite.tasks)"
   ]
  },
  {
   "cell_type": "code",
   "execution_count": 3,
   "metadata": {},
   "outputs": [],
   "source": [
    "def fit_RerF(X,\n",
    "             y,\n",
    "             train_test_splits, \n",
    "             forest_type = 'binnedBaseRerF', \n",
    "             num_trees = None,\n",
    "             num_cores = 8, \n",
    "             acorn = None\n",
    "    ):\n",
    "    # I assume data has been preprocessed\n",
    "    if num_trees is None:\n",
    "        num_trees = 10\n",
    "    if acorn is None:\n",
    "        acorn = np.random.randint(100000)\n",
    "    np.random.seed(acorn)\n",
    "    \n",
    "    train_idx = train_test_splits[0]\n",
    "    test_idx = train_test_splits[1]\n",
    "    X_train, X_test = X[train_idx], X[test_idx]\n",
    "    y_train, y_test = y[train_idx], y[test_idx]\n",
    "    \n",
    "    start = time.time()\n",
    "    rerf = fastRerF(X_train, y_train, forestType=forest_type, trees=num_trees, numCores=num_cores, seed = acorn)\n",
    "    end_train = time.time()\n",
    "    \n",
    "    y_test_hat = fastPredict(X_test, rerf)\n",
    "    end_predict = time.time()\n",
    "    test_accuracy = np.sum(y_test_hat == y_test)/len(y_test)\n",
    "    \n",
    "    y_train_hat = fastPredict(X_train, rerf)\n",
    "    train_accuracy = np.sum(y_train_hat == y_train)/len(y_train)\n",
    "    \n",
    "    train_time = end_train - start\n",
    "    predict_time = end_predict - end_train\n",
    "    return test_accuracy, train_accuracy, train_time, predict_time"
   ]
  },
  {
   "cell_type": "code",
   "execution_count": 4,
   "metadata": {},
   "outputs": [],
   "source": [
    "def fit_sklearn(X,\n",
    "                y,\n",
    "                train_test_splits, \n",
    "                forest_type='RandomForest',\n",
    "                num_trees = None, \n",
    "                num_cores = 8, \n",
    "                acorn = None\n",
    "    ):\n",
    "    # I assume the data has been preprocessed\n",
    "    if num_trees is None:\n",
    "        num_trees = 10\n",
    "    if acorn is None:\n",
    "        acorn = np.random.randint(100000)\n",
    "    np.random.seed(acorn)\n",
    "    \n",
    "    train_idx = train_test_splits[0]\n",
    "    test_idx = train_test_splits[1]\n",
    "    \n",
    "    X_train, X_test = X[train_idx], X[test_idx]\n",
    "    y_train, y_test = y[train_idx], y[test_idx]\n",
    "    \n",
    "    if forest_type == 'RandomForest':\n",
    "        model = RandomForestClassifier(n_estimators=num_trees, n_jobs=num_cores)\n",
    "    elif forest_type == 'ExtraTrees':\n",
    "        model = ExtraTreesClassifier(n_estimators=num_trees, n_jobs=num_cores)\n",
    "    else:\n",
    "        raise ValueError('model %s not implemented'%(forestType))\n",
    "        \n",
    "    start = time.time()\n",
    "    \n",
    "    model.fit(X_train, y_train)\n",
    "    \n",
    "    end_train = time.time()\n",
    "    \n",
    "    y_test_hat = model.predict(X_test)\n",
    "    \n",
    "    end_predict = time.time()\n",
    "    test_accuracy = np.sum(y_test_hat == y_test)/len(y_test)\n",
    "    \n",
    "    y_train_hat = model.predict(X_train)\n",
    "    train_accuracy = np.sum(y_train_hat == y_train)/len(y_train)\n",
    "    \n",
    "    train_time = end_train - start\n",
    "    predict_time = end_predict - end_train\n",
    "    \n",
    "    return test_accuracy, train_accuracy, train_time, predict_time"
   ]
  },
  {
   "cell_type": "code",
   "execution_count": 5,
   "metadata": {},
   "outputs": [],
   "source": [
    "def benchmark(oml_task_id=3, \n",
    "              n_iterations = 10,\n",
    "              preprocess=False,\n",
    "              train_test_splits = None,\n",
    "              rerfs=['binnedBaseRerF'], \n",
    "              sklearns=['RandomForest'], \n",
    "              num_trees = None, \n",
    "              num_cores = 8,\n",
    "              acorn=None\n",
    "    ):\n",
    "    if acorn is None:\n",
    "        acorn = np.random.randint(100000)\n",
    "    if num_trees is None:\n",
    "        num_trees = 10\n",
    "    np.random.seed(acorn)\n",
    "    \n",
    "    task = openml.tasks.get_task(oml_task_id)\n",
    "    X, y = task.get_X_and_y()\n",
    "    \n",
    "    if preprocess:\n",
    "        # TODO\n",
    "        pass\n",
    "    \n",
    "    if train_test_splits is None:\n",
    "        train_test_splits = task.get_train_test_split_indices()\n",
    "    else:\n",
    "        # TODO\n",
    "        pass\n",
    "        \n",
    "    rerf_results = np.zeros(shape=(len(rerfs), 4, n_iterations))\n",
    "    \n",
    "    for i, model in enumerate(rerfs):\n",
    "        for j in range(n_iterations):\n",
    "            rerf_results[i,:,j]=fit_RerF(X, y, train_test_splits, forest_type=model, num_trees=num_trees, num_cores=num_cores)\n",
    "        \n",
    "    sklearn_results = np.zeros(shape=(len(rerfs), 4, n_iterations))\n",
    "    for i, model in enumerate(sklearns):\n",
    "        for j in range(n_iterations):\n",
    "            sklearn_results[i,:,j]=fit_sklearn(X, y, train_test_splits, forest_type=model, num_trees=num_trees, num_cores=num_cores)\n",
    "    \n",
    "    return rerf_results, sklearn_results"
   ]
  },
  {
   "cell_type": "code",
   "execution_count": 6,
   "metadata": {},
   "outputs": [],
   "source": [
    "bs = benchmark()"
   ]
  },
  {
   "cell_type": "code",
   "execution_count": null,
   "metadata": {},
   "outputs": [],
   "source": []
  }
 ],
 "metadata": {
  "kernelspec": {
   "display_name": "Python 3",
   "language": "python",
   "name": "python3"
  },
  "language_info": {
   "codemirror_mode": {
    "name": "ipython",
    "version": 3
   },
   "file_extension": ".py",
   "mimetype": "text/x-python",
   "name": "python",
   "nbconvert_exporter": "python",
   "pygments_lexer": "ipython3",
   "version": "3.6.7"
  }
 },
 "nbformat": 4,
 "nbformat_minor": 2
}
