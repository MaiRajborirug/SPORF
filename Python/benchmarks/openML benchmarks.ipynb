{
 "cells": [
  {
   "cell_type": "code",
   "execution_count": 14,
   "metadata": {},
   "outputs": [],
   "source": [
    "import openml\n",
    "from benchmark_utils import *\n",
    "import matplotlib.pyplot as plt\n",
    "import pandas as pd\n",
    "%matplotlib inline"
   ]
  },
  {
   "cell_type": "code",
   "execution_count": 3,
   "metadata": {},
   "outputs": [
    {
     "name": "stdout",
     "output_type": "stream",
     "text": [
      "[3, 6, 11, 12, 14, 15, 16, 18, 22, 23, 28, 29, 31, 32, 37, 43, 45, 49, 53, 219, 2074, 2079, 3021, 3022, 3481, 3549, 3560, 3573, 3902, 3903, 3904, 3913, 3917, 3918, 7592, 9910, 9946, 9952, 9957, 9960, 9964, 9971, 9976, 9977, 9978, 9981, 9985, 10093, 10101, 14952, 14954, 14965, 14969, 14970, 125920, 125922, 146195, 146800, 146817, 146819, 146820, 146821, 146822, 146824, 146825, 167119, 167120, 167121, 167124, 167125, 167140, 167141]\n"
     ]
    }
   ],
   "source": [
    "benchmark_suite = openml.study.get_study('OpenML-CC18','tasks') # obtain the benchmark suite\n",
    "print(benchmark_suite.tasks)"
   ]
  },
  {
   "cell_type": "code",
   "execution_count": 130,
   "metadata": {},
   "outputs": [],
   "source": [
    "np.random.seed(1)\n",
    "n_iterations = 2\n",
    "n_trees = np.arange(20, 80, step=20)\n",
    "\n",
    "rerfs = ['binnedBaseRerF', 'rerf'] \n",
    "sklearns = ['RandomForest', 'ExtraTrees']\n",
    "\n",
    "bm_rerfs = np.zeros(shape=(len(n_trees), len(rerfs), 4, n_iterations))\n",
    "bm_sklearns = np.zeros(shape=(len(n_trees), len(sklearns), 4, n_iterations))\n",
    "\n",
    "for i, n in enumerate(n_trees):\n",
    "    bm = benchmark(oml_task_id=3, \n",
    "                   preprocess=False, \n",
    "                   rerfs = rerfs,\n",
    "                   sklearns = sklearns,\n",
    "                   num_trees=n,\n",
    "                   num_cores=8,\n",
    "                   n_iterations=n_iterations\n",
    "         )\n",
    "    \n",
    "    for j, rerf in enumerate(bm[0]):\n",
    "        bm_rerfs[i, j] = bm[0][j]\n",
    "    \n",
    "    for j, model in enumerate(bm[1]):\n",
    "        bm_sklearns[i, j] = bm[1][j]"
   ]
  },
  {
   "cell_type": "code",
   "execution_count": 133,
   "metadata": {},
   "outputs": [
    {
     "ename": "IndexError",
     "evalue": "index 2 is out of bounds for axis 0 with size 2",
     "output_type": "error",
     "traceback": [
      "\u001b[0;31m---------------------------------------------------------------------------\u001b[0m",
      "\u001b[0;31mIndexError\u001b[0m                                Traceback (most recent call last)",
      "\u001b[0;32m<ipython-input-133-06375dcf6a3a>\u001b[0m in \u001b[0;36m<module>\u001b[0;34m\u001b[0m\n\u001b[1;32m     12\u001b[0m \u001b[0;32mfor\u001b[0m \u001b[0mj\u001b[0m\u001b[0;34m,\u001b[0m \u001b[0mn\u001b[0m \u001b[0;32min\u001b[0m \u001b[0menumerate\u001b[0m\u001b[0;34m(\u001b[0m\u001b[0mn_trees\u001b[0m\u001b[0;34m)\u001b[0m\u001b[0;34m:\u001b[0m\u001b[0;34m\u001b[0m\u001b[0;34m\u001b[0m\u001b[0m\n\u001b[1;32m     13\u001b[0m     \u001b[0;32mfor\u001b[0m \u001b[0mi\u001b[0m \u001b[0;32min\u001b[0m \u001b[0mrange\u001b[0m\u001b[0;34m(\u001b[0m\u001b[0mlen\u001b[0m\u001b[0;34m(\u001b[0m\u001b[0mrerfs\u001b[0m\u001b[0;34m)\u001b[0m\u001b[0;34m)\u001b[0m\u001b[0;34m:\u001b[0m\u001b[0;34m\u001b[0m\u001b[0;34m\u001b[0m\u001b[0m\n\u001b[0;32m---> 14\u001b[0;31m         \u001b[0mtest_acc_ax\u001b[0m\u001b[0;34m.\u001b[0m\u001b[0mscatter\u001b[0m\u001b[0;34m(\u001b[0m\u001b[0mn\u001b[0m\u001b[0;34m,\u001b[0m \u001b[0mrerf_means\u001b[0m\u001b[0;34m[\u001b[0m\u001b[0mi\u001b[0m\u001b[0;34m]\u001b[0m\u001b[0;34m[\u001b[0m\u001b[0mj\u001b[0m\u001b[0;34m]\u001b[0m\u001b[0;34m[\u001b[0m\u001b[0;36m0\u001b[0m\u001b[0;34m]\u001b[0m\u001b[0;34m,\u001b[0m \u001b[0mc\u001b[0m \u001b[0;34m=\u001b[0m \u001b[0mrc\u001b[0m\u001b[0;34m[\u001b[0m\u001b[0mi\u001b[0m\u001b[0;34m]\u001b[0m\u001b[0;34m,\u001b[0m \u001b[0mlabel\u001b[0m \u001b[0;34m=\u001b[0m \u001b[0mrerfs\u001b[0m\u001b[0;34m[\u001b[0m\u001b[0mi\u001b[0m\u001b[0;34m]\u001b[0m\u001b[0;34m)\u001b[0m\u001b[0;34m\u001b[0m\u001b[0;34m\u001b[0m\u001b[0m\n\u001b[0m\u001b[1;32m     15\u001b[0m         \u001b[0mtrain_acc_ax\u001b[0m\u001b[0;34m.\u001b[0m\u001b[0mscatter\u001b[0m\u001b[0;34m(\u001b[0m\u001b[0mn\u001b[0m\u001b[0;34m,\u001b[0m \u001b[0mrerf_means\u001b[0m\u001b[0;34m[\u001b[0m\u001b[0mi\u001b[0m\u001b[0;34m]\u001b[0m\u001b[0;34m[\u001b[0m\u001b[0mj\u001b[0m\u001b[0;34m]\u001b[0m\u001b[0;34m[\u001b[0m\u001b[0;36m1\u001b[0m\u001b[0;34m]\u001b[0m\u001b[0;34m,\u001b[0m \u001b[0mc\u001b[0m \u001b[0;34m=\u001b[0m \u001b[0mrc\u001b[0m\u001b[0;34m[\u001b[0m\u001b[0mi\u001b[0m\u001b[0;34m]\u001b[0m\u001b[0;34m,\u001b[0m \u001b[0mlabel\u001b[0m \u001b[0;34m=\u001b[0m \u001b[0mrerfs\u001b[0m\u001b[0;34m[\u001b[0m\u001b[0mi\u001b[0m\u001b[0;34m]\u001b[0m\u001b[0;34m)\u001b[0m\u001b[0;34m\u001b[0m\u001b[0;34m\u001b[0m\u001b[0m\n\u001b[1;32m     16\u001b[0m         \u001b[0mtest_time_ax\u001b[0m\u001b[0;34m.\u001b[0m\u001b[0mscatter\u001b[0m\u001b[0;34m(\u001b[0m\u001b[0mn\u001b[0m\u001b[0;34m,\u001b[0m \u001b[0mrerf_means\u001b[0m\u001b[0;34m[\u001b[0m\u001b[0mi\u001b[0m\u001b[0;34m]\u001b[0m\u001b[0;34m[\u001b[0m\u001b[0mj\u001b[0m\u001b[0;34m]\u001b[0m\u001b[0;34m[\u001b[0m\u001b[0;36m2\u001b[0m\u001b[0;34m]\u001b[0m\u001b[0;34m,\u001b[0m \u001b[0mc\u001b[0m \u001b[0;34m=\u001b[0m \u001b[0mrc\u001b[0m\u001b[0;34m[\u001b[0m\u001b[0mi\u001b[0m\u001b[0;34m]\u001b[0m\u001b[0;34m,\u001b[0m \u001b[0mlabel\u001b[0m \u001b[0;34m=\u001b[0m \u001b[0mrerfs\u001b[0m\u001b[0;34m[\u001b[0m\u001b[0mi\u001b[0m\u001b[0;34m]\u001b[0m\u001b[0;34m)\u001b[0m\u001b[0;34m\u001b[0m\u001b[0;34m\u001b[0m\u001b[0m\n",
      "\u001b[0;31mIndexError\u001b[0m: index 2 is out of bounds for axis 0 with size 2"
     ]
    },
    {
     "data": {
      "image/png": "[encoded data removed]",
      "text/plain": [
       "<Figure size 432x288 with 1 Axes>"
      ]
     },
     "metadata": {
      "needs_background": "light"
     },
     "output_type": "display_data"
    },
    {
     "data": {
      "image/png": "[encoded data removed]",
      "text/plain": [
       "<Figure size 432x288 with 1 Axes>"
      ]
     },
     "metadata": {
      "needs_background": "light"
     },
     "output_type": "display_data"
    },
    {
     "data": {
      "image/png": "[encoded data removed]",
      "text/plain": [
       "<Figure size 432x288 with 1 Axes>"
      ]
     },
     "metadata": {
      "needs_background": "light"
     },
     "output_type": "display_data"
    },
    {
     "data": {
      "image/png": "[encoded data removed]",
      "text/plain": [
       "<Figure size 432x288 with 1 Axes>"
      ]
     },
     "metadata": {
      "needs_background": "light"
     },
     "output_type": "display_data"
    }
   ],
   "source": [
    "rerf_means = np.mean(bm_rerfs, axis=3)\n",
    "sklearn_means = np.mean(bm_sklearns, axis=3)\n",
    "\n",
    "fig, test_acc_ax = plt.subplots(1,1)\n",
    "fig, train_acc_ax = plt.subplots(1,1)\n",
    "fig, test_time_ax = plt.subplots(1,1)\n",
    "fig, train_time_ax = plt.subplots(1,1)\n",
    "\n",
    "rc = ['r', 'b']\n",
    "sc = ['g', 'k']\n",
    "\n",
    "for j, n in enumerate(n_trees):\n",
    "    for i in range(len(rerfs)):\n",
    "        test_acc_ax.scatter(n, rerf_means[i][j][0], c = rc[i], label = rerfs[i])\n",
    "        train_acc_ax.scatter(n, rerf_means[i][j][1], c = rc[i], label = rerfs[i])\n",
    "        test_time_ax.scatter(n, rerf_means[i][j][2], c = rc[i], label = rerfs[i])\n",
    "        train_time_ax.scatter(n, rerf_means[i][j][3], c = rc[i], label = rerfs[i])\n",
    "    \n",
    "for j, n in enumerate(n_trees):\n",
    "    for i in range(len(sklearns)):\n",
    "        test_acc_ax.scatter(n, sklearn_means[i][j][0], c = sc[i], label = sklearns[i])\n",
    "        train_acc_ax.scatter(n, sklearn_means[i][j][1], c = sc[i], label = sklearns[i])\n",
    "        test_time_ax.scatter(n, sklearn_means[i][j][2], c = sc[i], label = sklearns[i])\n",
    "        train_time_ax.scatter(n, sklearn_means[i][j][3], c = sc[i], label = sklearns[i])\n",
    "\n",
    "test_acc_ax.legend()"
   ]
  },
  {
   "cell_type": "code",
   "execution_count": 124,
   "metadata": {},
   "outputs": [
    {
     "ename": "IndexError",
     "evalue": "index 2 is out of bounds for axis 0 with size 2",
     "output_type": "error",
     "traceback": [
      "\u001b[0;31m---------------------------------------------------------------------------\u001b[0m",
      "\u001b[0;31mIndexError\u001b[0m                                Traceback (most recent call last)",
      "\u001b[0;32m<ipython-input-124-799e7e938f5a>\u001b[0m in \u001b[0;36m<module>\u001b[0;34m\u001b[0m\n\u001b[0;32m----> 1\u001b[0;31m \u001b[0mtest_acc_ax\u001b[0m\u001b[0;34m.\u001b[0m\u001b[0mscatter\u001b[0m\u001b[0;34m(\u001b[0m\u001b[0mn\u001b[0m\u001b[0;34m,\u001b[0m \u001b[0mrerf_means\u001b[0m\u001b[0;34m[\u001b[0m\u001b[0mi\u001b[0m\u001b[0;34m]\u001b[0m\u001b[0;34m[\u001b[0m\u001b[0mj\u001b[0m\u001b[0;34m]\u001b[0m\u001b[0;34m[\u001b[0m\u001b[0;36m0\u001b[0m\u001b[0;34m]\u001b[0m\u001b[0;34m,\u001b[0m \u001b[0mc\u001b[0m \u001b[0;34m=\u001b[0m \u001b[0mrc\u001b[0m\u001b[0;34m[\u001b[0m\u001b[0mi\u001b[0m\u001b[0;34m]\u001b[0m\u001b[0;34m,\u001b[0m \u001b[0mlabel\u001b[0m \u001b[0;34m=\u001b[0m \u001b[0mrerfs\u001b[0m\u001b[0;34m[\u001b[0m\u001b[0mi\u001b[0m\u001b[0;34m]\u001b[0m\u001b[0;34m)\u001b[0m\u001b[0;34m\u001b[0m\u001b[0;34m\u001b[0m\u001b[0m\n\u001b[0m",
      "\u001b[0;31mIndexError\u001b[0m: index 2 is out of bounds for axis 0 with size 2"
     ]
    }
   ],
   "source": [
    "test_acc_ax.scatter(n, rerf_means[i][j][0], c = rc[i], label = rerfs[i])"
   ]
  },
  {
   "cell_type": "code",
   "execution_count": 129,
   "metadata": {},
   "outputs": [
    {
     "data": {
      "text/plain": [
       "array([[0.9859375 , 0.99426287, 0.02332401, 0.00130486],\n",
       "       [0.978125  , 0.99600139, 0.02682889, 0.00105488]])"
      ]
     },
     "execution_count": 129,
     "metadata": {},
     "output_type": "execute_result"
    }
   ],
   "source": [
    "rerf_means[0]"
   ]
  },
  {
   "cell_type": "code",
   "execution_count": 4,
   "metadata": {},
   "outputs": [],
   "source": [
    "def fit_sklearn(X,\n",
    "                y,\n",
    "                train_test_splits, \n",
    "                forest_type='RandomForest',\n",
    "                num_trees = None, \n",
    "                num_cores = 8, \n",
    "                acorn = None\n",
    "    ):\n",
    "    # I assume the data has been preprocessed\n",
    "    if num_trees is None:\n",
    "        num_trees = 10\n",
    "    if acorn is None:\n",
    "        acorn = np.random.randint(100000)\n",
    "    np.random.seed(acorn)\n",
    "    \n",
    "    train_idx = train_test_splits[0]\n",
    "    test_idx = train_test_splits[1]\n",
    "    \n",
    "    X_train, X_test = X[train_idx], X[test_idx]\n",
    "    y_train, y_test = y[train_idx], y[test_idx]\n",
    "    \n",
    "    if forest_type == 'RandomForest':\n",
    "        model = RandomForestClassifier(n_estimators=num_trees, n_jobs=num_cores)\n",
    "    elif forest_type == 'ExtraTrees':\n",
    "        model = ExtraTreesClassifier(n_estimators=num_trees, n_jobs=num_cores)\n",
    "    else:\n",
    "        raise ValueError('model %s not implemented'%(forestType))\n",
    "        \n",
    "    start = time.time()\n",
    "    \n",
    "    model.fit(X_train, y_train)\n",
    "    \n",
    "    end_train = time.time()\n",
    "    \n",
    "    y_test_hat = model.predict(X_test)\n",
    "    \n",
    "    end_predict = time.time()\n",
    "    test_accuracy = np.sum(y_test_hat == y_test)/len(y_test)\n",
    "    \n",
    "    y_train_hat = model.predict(X_train)\n",
    "    train_accuracy = np.sum(y_train_hat == y_train)/len(y_train)\n",
    "    \n",
    "    train_time = end_train - start\n",
    "    predict_time = end_predict - end_train\n",
    "    \n",
    "    return test_accuracy, train_accuracy, train_time, predict_time"
   ]
  },
  {
   "cell_type": "code",
   "execution_count": 3,
   "metadata": {},
   "outputs": [],
   "source": [
    "def fit_RerF(X,\n",
    "             y,\n",
    "             train_test_splits, \n",
    "             forest_type = 'binnedBaseRerF', \n",
    "             num_trees = None,\n",
    "             num_cores = 8, \n",
    "             acorn = None\n",
    "    ):\n",
    "    # I assume data has been preprocessed\n",
    "    if num_trees is None:\n",
    "        num_trees = 10\n",
    "    if acorn is None:\n",
    "        acorn = np.random.randint(100000)\n",
    "    np.random.seed(acorn)\n",
    "    \n",
    "    train_idx = train_test_splits[0]\n",
    "    test_idx = train_test_splits[1]\n",
    "    X_train, X_test = X[train_idx], X[test_idx]\n",
    "    y_train, y_test = y[train_idx], y[test_idx]\n",
    "    \n",
    "    start = time.time()\n",
    "    rerf = fastRerF(X_train, y_train, forestType=forest_type, trees=num_trees, numCores=num_cores, seed = acorn)\n",
    "    end_train = time.time()\n",
    "    \n",
    "    y_test_hat = fastPredict(X_test, rerf)\n",
    "    end_predict = time.time()\n",
    "    test_accuracy = np.sum(y_test_hat == y_test)/len(y_test)\n",
    "    \n",
    "    y_train_hat = fastPredict(X_train, rerf)\n",
    "    train_accuracy = np.sum(y_train_hat == y_train)/len(y_train)\n",
    "    \n",
    "    train_time = end_train - start\n",
    "    predict_time = end_predict - end_train\n",
    "    return test_accuracy, train_accuracy, train_time, predict_time"
   ]
  },
  {
   "cell_type": "code",
   "execution_count": 5,
   "metadata": {},
   "outputs": [],
   "source": [
    "def benchmark(oml_task_id=3, \n",
    "              n_iterations = 10,\n",
    "              preprocess=False,\n",
    "              train_test_splits = None,\n",
    "              rerfs=['binnedBaseRerF'], \n",
    "              sklearns=['RandomForest'], \n",
    "              num_trees = None, \n",
    "              num_cores = 8,\n",
    "              acorn=None\n",
    "    ):\n",
    "    if acorn is None:\n",
    "        acorn = np.random.randint(100000)\n",
    "    if num_trees is None:\n",
    "        num_trees = 10\n",
    "    np.random.seed(acorn)\n",
    "    \n",
    "    task = openml.tasks.get_task(oml_task_id)\n",
    "    X, y = task.get_X_and_y()\n",
    "    \n",
    "    if preprocess:\n",
    "        # TODO\n",
    "        pass\n",
    "    \n",
    "    if train_test_splits is None:\n",
    "        train_test_splits = task.get_train_test_split_indices()\n",
    "    else:\n",
    "        # TODO\n",
    "        pass\n",
    "        \n",
    "    rerf_results = np.zeros(shape=(len(rerfs), 4, n_iterations))\n",
    "    \n",
    "    for i, model in enumerate(rerfs):\n",
    "        for j in range(n_iterations):\n",
    "            rerf_results[i,:,j]=fit_RerF(X, y, train_test_splits, forest_type=model, num_trees=num_trees, num_cores=num_cores)\n",
    "        \n",
    "    sklearn_results = np.zeros(shape=(len(rerfs), 4, n_iterations))\n",
    "    for i, model in enumerate(sklearns):\n",
    "        for j in range(n_iterations):\n",
    "            sklearn_results[i,:,j]=fit_sklearn(X, y, train_test_splits, forest_type=model, num_trees=num_trees, num_cores=num_cores)\n",
    "    \n",
    "    return rerf_results, sklearn_results"
   ]
  }
 ],
 "metadata": {
  "kernelspec": {
   "display_name": "Python 3",
   "language": "python",
   "name": "python3"
  },
  "language_info": {
   "codemirror_mode": {
    "name": "ipython",
    "version": 3
   },
   "file_extension": ".py",
   "mimetype": "text/x-python",
   "name": "python",
   "nbconvert_exporter": "python",
   "pygments_lexer": "ipython3",
   "version": "3.6.7"
  }
 },
 "nbformat": 4,
 "nbformat_minor": 2
}
